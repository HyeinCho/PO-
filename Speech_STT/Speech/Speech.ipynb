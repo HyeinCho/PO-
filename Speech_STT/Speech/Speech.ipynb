{
 "cells": [
  {
   "cell_type": "code",
   "execution_count": 1,
   "metadata": {},
   "outputs": [],
   "source": [
    "# GPU 설정\n",
    "import tensorflow as tf\n",
    "\n",
    "gpus = tf.config.experimental.list_physical_devices('GPU')\n",
    "if gpus:\n",
    "    try:\n",
    "        tf.config.experimental.set_visible_devices(gpus[0], 'GPU')\n",
    "    except RuntimeError as e:\n",
    "        print(e)"
   ]
  },
  {
   "cell_type": "code",
   "execution_count": 2,
   "metadata": {},
   "outputs": [],
   "source": [
    "from pykospacing import spacing\n",
    "import kss\n",
    "import plotly.graph_objects as go\n",
    "import speech_recognition as sr\n",
    "from sklearn.feature_extraction.text import CountVectorizer\n",
    "import numpy as np\n",
    "from sklearn.metrics.pairwise import cosine_distances, cosine_similarity\n",
    "import wave\n",
    "import contextlib\n",
    "import os"
   ]
  },
  {
   "cell_type": "code",
   "execution_count": 3,
   "metadata": {},
   "outputs": [],
   "source": [
    "# 음성추출\n",
    "\n",
    "def audio_stt(audio_file):\n",
    "    # audio file 받기\n",
    "    AUDIO_FILE = audio_file\n",
    "    \n",
    "    # wav 파일 길이 구하기\n",
    "    sec = 0\n",
    "    with contextlib.closing(wave.open(AUDIO_FILE, 'r')) as f:\n",
    "        frames = f.getnframes()\n",
    "        rate = f.getframerate()\n",
    "        duration = frames / float(rate)\n",
    "        sec += duration\n",
    "\n",
    "    # audio file을 audio source로 사용합니다\n",
    "    r = sr.Recognizer()\n",
    "    with sr.AudioFile(AUDIO_FILE) as source:\n",
    "        audio = r.record(source)  # 전체 audio file 읽기\n",
    "    s_data = \"\"\n",
    "    try:\n",
    "        # 인식하면 s_data에 입력\n",
    "        s_data = r.recognize_google(audio, language='ko')\n",
    "\n",
    "    except sr.UnknownValueError:\n",
    "        print(\"Google Speech Recognition could not understand audio\")\n",
    "    except sr.RequestError as e:\n",
    "        print(\"Could not request results from Google Speech Recognition service; {0}\".format(e))\n",
    "    return s_data, sec\n"
   ]
  },
  {
   "cell_type": "code",
   "execution_count": 4,
   "metadata": {},
   "outputs": [],
   "source": [
    "# 띄어쓰기\n",
    "def sentence_modify(s_data):\n",
    "    doc = \"\"\n",
    "    \n",
    "    # 문장 띄어쓰기 수행\n",
    "    doc = spacing(''.join(s_data.split(' ')))\n",
    "    return doc"
   ]
  },
  {
   "cell_type": "code",
   "execution_count": 5,
   "metadata": {},
   "outputs": [],
   "source": [
    "# 마침표 붙이기\n",
    "def put(s_data):\n",
    "    doc = \"\"\n",
    "    # 마침표 붙이기\n",
    "    for sent in kss.split_sentences(s_data):\n",
    "        doc += sent + '..'\n",
    "\n",
    "    return doc\n"
   ]
  },
  {
   "cell_type": "code",
   "execution_count": 6,
   "metadata": {},
   "outputs": [],
   "source": [
    "# 속도 시각화\n",
    "def check_speed(s, sec):\n",
    "    syllable = ''.join(s.split())  # 공백 제외 글자 수(음절 수)\n",
    "\n",
    "    # 평균 발표 속도: 250 / min\n",
    "    # 발표 속도: 음절개수 / min\n",
    "    speaking_rate = len(syllable) * 60 / sec\n",
    "\n",
    "    fig = go.Figure(go.Indicator(\n",
    "        domain={'x': [0, 1], 'y': [0, 1]},\n",
    "        value=speaking_rate,\n",
    "        mode=\"gauge+number+delta\",\n",
    "        title={'text': \"Speed\"},\n",
    "        delta={'reference': 250},\n",
    "        gauge={'axis': {'range': [None, 500]},\n",
    "               'steps': [\n",
    "                   {'range': [0, 250], 'color': \"lightgray\"},\n",
    "                   {'range': [250, 500], 'color': \"gray\"}],\n",
    "               'threshold': {'line': {'color': \"red\", 'width': 4}, 'thickness': 0.75, 'value': 490}}))\n",
    "\n",
    "    fig.show()\n",
    "\n",
    "    return speaking_rate"
   ]
  },
  {
   "cell_type": "code",
   "execution_count": 7,
   "metadata": {},
   "outputs": [],
   "source": [
    "# 필러 체크\n",
    "def check_filler(doc):\n",
    "    filler = ['뭐', '음', '그', '어', '그냥', '이제', '좀', '아', '한',\n",
    "              '그거', '대게', '막', '그게', '그니까', '그래', '근데',\n",
    "              '일단', '아마', '저기', '이', '뭐지', '뭔가', '스', '하', '자',\n",
    "              '에', '이게', '뭐더라']\n",
    "    # filler 제거 check\n",
    "    remove_doc = []\n",
    "\n",
    "    list_filler = doc.split()\n",
    "\n",
    "    s_filler = dict()\n",
    "\n",
    "    for i in range(len(list_filler)):\n",
    "        if list_filler[i] in filler:\n",
    "            remove_doc.append(i)\n",
    "            if s_filler.get(list_filler[i]):\n",
    "                s_filler[list_filler[i]] += 1\n",
    "            else:\n",
    "                s_filler[list_filler[i]] = 1\n",
    "    # filler 제거한 doc 문장\n",
    "    list(map(list_filler.pop, remove_doc))\n",
    "    m_doc = ''.join(list_filler)\n",
    "    return m_doc, s_filler\n"
   ]
  },
  {
   "cell_type": "code",
   "execution_count": 8,
   "metadata": {},
   "outputs": [],
   "source": [
    "# cosine_similarity\n",
    "def cos(doc, original):\n",
    "    arr1 = original.split(\". \")\n",
    "    arr2 = doc.split(\"..\")\n",
    "    count_vec = CountVectorizer()\n",
    "\n",
    "    # find arr1 = arr2\n",
    "    # standard : arr2\n",
    "    # dict : check arr1 arr2\n",
    "    dict = {}\n",
    "    for lst in range(len(arr1)):\n",
    "        dict[arr1[lst]] = False\n",
    "\n",
    "    for i in range(len(arr2)):\n",
    "        cos_ = []  # arr2[i] and arr1 cosine_similarity save\n",
    "        for j in range(len(arr1)):\n",
    "            arr_matrix = count_vec.fit_transform([arr1[j], arr2[i]]).toarray()\n",
    "            cos_value = cosine_similarity(arr_matrix)\n",
    "            cos_.append(cos_value[0][1])\n",
    "\n",
    "        # max cos_value\n",
    "        max_cos = max(cos_)\n",
    "        if max_cos >= 0.7:\n",
    "            arr_num = cos_.index(max_cos)\n",
    "            if dict[arr1[arr_num]] is False:\n",
    "                dict[arr1[arr_num]] = True\n",
    "\n",
    "    for k, v in dict.items():\n",
    "        if v is False:\n",
    "            print('\\x1b[1;31m'+k+'\\x1b[1;m')\n",
    "        else:\n",
    "            print('\\x1b[1;2m'+k+'\\x1b[1;m')\n"
   ]
  },
  {
   "cell_type": "code",
   "execution_count": 10,
   "metadata": {},
   "outputs": [
    {
     "name": "stdout",
     "output_type": "stream",
     "text": [
      "대본 입력: 3차 발표를 맡은 A3조 신정우입니다. 저희의 주제는 발표 연습 도우미인 포레젠테이션입니다. 목차는 다음과 같습니다. 저희 프로젝트 추진 배경입니다. 스피치 상황이 많아진 자기 PR 시대에 발표 능력 향상을 목표로 하는 소비자의 needs가 증가하고 있습니다. 그리고 발표를 두려워하거나 발표 능력이 부족한 사람들을 위한 서비스가 부재하기 때문에 발표 연습을 도와주는 AI프로젝트를 계획하게 됐습니다. 현재 기술현황으로는 마이크로소프트에서 제공하는 프레젠테이션 코치와 면접연습 AI인 뷰인터가 있습니다. 프레젠테이션 코치의 경우, 필러 유무 서비스 등의 장점이 있지만, 파워포인트에서만 이용이 가능하고, 영어로만 사용이 가능하다는 단점이 있습니다. 그래서 포레젠테이션에서는 노션, 프레지 등 다양한 발표 도구를 사용할 수 있으며, 한국어 발표 연습이 가능하도록 목표를 설정했습니다. 뷰인터의 경우 영상을 통해 시각과 음성을 분석하는 서비스를 제공하는데 이 기술을 참고하여 시선처리와 표정으로 시각분석을 하고 대본과 실제 발표 음성을 비교하여 분석하는 것을 목표로 설정했습니다. 포레젠테이션의 시스템 구조는 발표 대본을 먼저 업로드하고 발표 영상을 녹화하면 gaze tracking과 감정인식으로 시각분석을 하고, 실제 발표를 STT를 이용하여 Text화 시켜서 Word2Vec로 업로드한 대본과 비교하여 음성분석을 합니다. 그리고 STT에서 나온 단어 수를 파악해 말의 속도, 자주 사용하는 단어 등을 결과 레포트에 나타낼 것입니다. 발표가 끝나면 이러한 결과들을 보고서에 출력한 후, 발표 연습을 끝내거나 만족하지 못할 경우 대본을 재 업로드하거나 발표 연습을 다시하는 구조입니다. 다음으로 사용하는 기술을 소개하겠습니다. Gaze Tracking의 경우는 사용자의 시선이 화면에서 극단적으로 벗어나는 경우를 의심수준으로 설정하고 그 횟수를 파악할 것입니다. Emotion Recognition의 경우 발표자의 표정 중 엥그리 뉴트럴 해피를 인식하고 그 결과를 시계열 그래프로 나타내여 결과 보고서에 출력할 것입니다. STT는 사용자의 말하기를 문자로 바꿔서 실제 발표 내용을 확인하여 발표능력 피드백에 활용할 것입니다. Word2Vec과 코엔엘파이를 사용해서 업로드한 대본과 STT를 이용하여 만든 텍스트를 비교하여 단어별로 유사도를 체크할 것입니다. 먼저 시각분석 진행현황입니다. 사진에서 빨간 네모박스를 보시면 Emotion Recognition을 하는 것으로 표정을 인식하여 현재 사진에는 뉴트럴이 나타나고 있습니다. 눈동자에는 초록색 십자가 표시가 있는데 gaze tracking을 하는 것입니다.\n"
     ]
    },
    {
     "data": {
      "application/vnd.plotly.v1+json": {
       "config": {
        "plotlyServerURL": "https://plot.ly"
       },
       "data": [
        {
         "delta": {
          "reference": 250
         },
         "domain": {
          "x": [
           0,
           1
          ],
          "y": [
           0,
           1
          ]
         },
         "gauge": {
          "axis": {
           "range": [
            null,
            500
           ]
          },
          "steps": [
           {
            "color": "lightgray",
            "range": [
             0,
             250
            ]
           },
           {
            "color": "gray",
            "range": [
             250,
             500
            ]
           }
          ],
          "threshold": {
           "line": {
            "color": "red",
            "width": 4
           },
           "thickness": 0.75,
           "value": 490
          }
         },
         "mode": "gauge+number+delta",
         "title": {
          "text": "Speed"
         },
         "type": "indicator",
         "value": 322.57353751239395
        }
       ],
       "layout": {
        "template": {
         "data": {
          "bar": [
           {
            "error_x": {
             "color": "#2a3f5f"
            },
            "error_y": {
             "color": "#2a3f5f"
            },
            "marker": {
             "line": {
              "color": "#E5ECF6",
              "width": 0.5
             }
            },
            "type": "bar"
           }
          ],
          "barpolar": [
           {
            "marker": {
             "line": {
              "color": "#E5ECF6",
              "width": 0.5
             }
            },
            "type": "barpolar"
           }
          ],
          "carpet": [
           {
            "aaxis": {
             "endlinecolor": "#2a3f5f",
             "gridcolor": "white",
             "linecolor": "white",
             "minorgridcolor": "white",
             "startlinecolor": "#2a3f5f"
            },
            "baxis": {
             "endlinecolor": "#2a3f5f",
             "gridcolor": "white",
             "linecolor": "white",
             "minorgridcolor": "white",
             "startlinecolor": "#2a3f5f"
            },
            "type": "carpet"
           }
          ],
          "choropleth": [
           {
            "colorbar": {
             "outlinewidth": 0,
             "ticks": ""
            },
            "type": "choropleth"
           }
          ],
          "contour": [
           {
            "colorbar": {
             "outlinewidth": 0,
             "ticks": ""
            },
            "colorscale": [
             [
              0,
              "#0d0887"
             ],
             [
              0.1111111111111111,
              "#46039f"
             ],
             [
              0.2222222222222222,
              "#7201a8"
             ],
             [
              0.3333333333333333,
              "#9c179e"
             ],
             [
              0.4444444444444444,
              "#bd3786"
             ],
             [
              0.5555555555555556,
              "#d8576b"
             ],
             [
              0.6666666666666666,
              "#ed7953"
             ],
             [
              0.7777777777777778,
              "#fb9f3a"
             ],
             [
              0.8888888888888888,
              "#fdca26"
             ],
             [
              1,
              "#f0f921"
             ]
            ],
            "type": "contour"
           }
          ],
          "contourcarpet": [
           {
            "colorbar": {
             "outlinewidth": 0,
             "ticks": ""
            },
            "type": "contourcarpet"
           }
          ],
          "heatmap": [
           {
            "colorbar": {
             "outlinewidth": 0,
             "ticks": ""
            },
            "colorscale": [
             [
              0,
              "#0d0887"
             ],
             [
              0.1111111111111111,
              "#46039f"
             ],
             [
              0.2222222222222222,
              "#7201a8"
             ],
             [
              0.3333333333333333,
              "#9c179e"
             ],
             [
              0.4444444444444444,
              "#bd3786"
             ],
             [
              0.5555555555555556,
              "#d8576b"
             ],
             [
              0.6666666666666666,
              "#ed7953"
             ],
             [
              0.7777777777777778,
              "#fb9f3a"
             ],
             [
              0.8888888888888888,
              "#fdca26"
             ],
             [
              1,
              "#f0f921"
             ]
            ],
            "type": "heatmap"
           }
          ],
          "heatmapgl": [
           {
            "colorbar": {
             "outlinewidth": 0,
             "ticks": ""
            },
            "colorscale": [
             [
              0,
              "#0d0887"
             ],
             [
              0.1111111111111111,
              "#46039f"
             ],
             [
              0.2222222222222222,
              "#7201a8"
             ],
             [
              0.3333333333333333,
              "#9c179e"
             ],
             [
              0.4444444444444444,
              "#bd3786"
             ],
             [
              0.5555555555555556,
              "#d8576b"
             ],
             [
              0.6666666666666666,
              "#ed7953"
             ],
             [
              0.7777777777777778,
              "#fb9f3a"
             ],
             [
              0.8888888888888888,
              "#fdca26"
             ],
             [
              1,
              "#f0f921"
             ]
            ],
            "type": "heatmapgl"
           }
          ],
          "histogram": [
           {
            "marker": {
             "colorbar": {
              "outlinewidth": 0,
              "ticks": ""
             }
            },
            "type": "histogram"
           }
          ],
          "histogram2d": [
           {
            "colorbar": {
             "outlinewidth": 0,
             "ticks": ""
            },
            "colorscale": [
             [
              0,
              "#0d0887"
             ],
             [
              0.1111111111111111,
              "#46039f"
             ],
             [
              0.2222222222222222,
              "#7201a8"
             ],
             [
              0.3333333333333333,
              "#9c179e"
             ],
             [
              0.4444444444444444,
              "#bd3786"
             ],
             [
              0.5555555555555556,
              "#d8576b"
             ],
             [
              0.6666666666666666,
              "#ed7953"
             ],
             [
              0.7777777777777778,
              "#fb9f3a"
             ],
             [
              0.8888888888888888,
              "#fdca26"
             ],
             [
              1,
              "#f0f921"
             ]
            ],
            "type": "histogram2d"
           }
          ],
          "histogram2dcontour": [
           {
            "colorbar": {
             "outlinewidth": 0,
             "ticks": ""
            },
            "colorscale": [
             [
              0,
              "#0d0887"
             ],
             [
              0.1111111111111111,
              "#46039f"
             ],
             [
              0.2222222222222222,
              "#7201a8"
             ],
             [
              0.3333333333333333,
              "#9c179e"
             ],
             [
              0.4444444444444444,
              "#bd3786"
             ],
             [
              0.5555555555555556,
              "#d8576b"
             ],
             [
              0.6666666666666666,
              "#ed7953"
             ],
             [
              0.7777777777777778,
              "#fb9f3a"
             ],
             [
              0.8888888888888888,
              "#fdca26"
             ],
             [
              1,
              "#f0f921"
             ]
            ],
            "type": "histogram2dcontour"
           }
          ],
          "mesh3d": [
           {
            "colorbar": {
             "outlinewidth": 0,
             "ticks": ""
            },
            "type": "mesh3d"
           }
          ],
          "parcoords": [
           {
            "line": {
             "colorbar": {
              "outlinewidth": 0,
              "ticks": ""
             }
            },
            "type": "parcoords"
           }
          ],
          "pie": [
           {
            "automargin": true,
            "type": "pie"
           }
          ],
          "scatter": [
           {
            "marker": {
             "colorbar": {
              "outlinewidth": 0,
              "ticks": ""
             }
            },
            "type": "scatter"
           }
          ],
          "scatter3d": [
           {
            "line": {
             "colorbar": {
              "outlinewidth": 0,
              "ticks": ""
             }
            },
            "marker": {
             "colorbar": {
              "outlinewidth": 0,
              "ticks": ""
             }
            },
            "type": "scatter3d"
           }
          ],
          "scattercarpet": [
           {
            "marker": {
             "colorbar": {
              "outlinewidth": 0,
              "ticks": ""
             }
            },
            "type": "scattercarpet"
           }
          ],
          "scattergeo": [
           {
            "marker": {
             "colorbar": {
              "outlinewidth": 0,
              "ticks": ""
             }
            },
            "type": "scattergeo"
           }
          ],
          "scattergl": [
           {
            "marker": {
             "colorbar": {
              "outlinewidth": 0,
              "ticks": ""
             }
            },
            "type": "scattergl"
           }
          ],
          "scattermapbox": [
           {
            "marker": {
             "colorbar": {
              "outlinewidth": 0,
              "ticks": ""
             }
            },
            "type": "scattermapbox"
           }
          ],
          "scatterpolar": [
           {
            "marker": {
             "colorbar": {
              "outlinewidth": 0,
              "ticks": ""
             }
            },
            "type": "scatterpolar"
           }
          ],
          "scatterpolargl": [
           {
            "marker": {
             "colorbar": {
              "outlinewidth": 0,
              "ticks": ""
             }
            },
            "type": "scatterpolargl"
           }
          ],
          "scatterternary": [
           {
            "marker": {
             "colorbar": {
              "outlinewidth": 0,
              "ticks": ""
             }
            },
            "type": "scatterternary"
           }
          ],
          "surface": [
           {
            "colorbar": {
             "outlinewidth": 0,
             "ticks": ""
            },
            "colorscale": [
             [
              0,
              "#0d0887"
             ],
             [
              0.1111111111111111,
              "#46039f"
             ],
             [
              0.2222222222222222,
              "#7201a8"
             ],
             [
              0.3333333333333333,
              "#9c179e"
             ],
             [
              0.4444444444444444,
              "#bd3786"
             ],
             [
              0.5555555555555556,
              "#d8576b"
             ],
             [
              0.6666666666666666,
              "#ed7953"
             ],
             [
              0.7777777777777778,
              "#fb9f3a"
             ],
             [
              0.8888888888888888,
              "#fdca26"
             ],
             [
              1,
              "#f0f921"
             ]
            ],
            "type": "surface"
           }
          ],
          "table": [
           {
            "cells": {
             "fill": {
              "color": "#EBF0F8"
             },
             "line": {
              "color": "white"
             }
            },
            "header": {
             "fill": {
              "color": "#C8D4E3"
             },
             "line": {
              "color": "white"
             }
            },
            "type": "table"
           }
          ]
         },
         "layout": {
          "annotationdefaults": {
           "arrowcolor": "#2a3f5f",
           "arrowhead": 0,
           "arrowwidth": 1
          },
          "coloraxis": {
           "colorbar": {
            "outlinewidth": 0,
            "ticks": ""
           }
          },
          "colorscale": {
           "diverging": [
            [
             0,
             "#8e0152"
            ],
            [
             0.1,
             "#c51b7d"
            ],
            [
             0.2,
             "#de77ae"
            ],
            [
             0.3,
             "#f1b6da"
            ],
            [
             0.4,
             "#fde0ef"
            ],
            [
             0.5,
             "#f7f7f7"
            ],
            [
             0.6,
             "#e6f5d0"
            ],
            [
             0.7,
             "#b8e186"
            ],
            [
             0.8,
             "#7fbc41"
            ],
            [
             0.9,
             "#4d9221"
            ],
            [
             1,
             "#276419"
            ]
           ],
           "sequential": [
            [
             0,
             "#0d0887"
            ],
            [
             0.1111111111111111,
             "#46039f"
            ],
            [
             0.2222222222222222,
             "#7201a8"
            ],
            [
             0.3333333333333333,
             "#9c179e"
            ],
            [
             0.4444444444444444,
             "#bd3786"
            ],
            [
             0.5555555555555556,
             "#d8576b"
            ],
            [
             0.6666666666666666,
             "#ed7953"
            ],
            [
             0.7777777777777778,
             "#fb9f3a"
            ],
            [
             0.8888888888888888,
             "#fdca26"
            ],
            [
             1,
             "#f0f921"
            ]
           ],
           "sequentialminus": [
            [
             0,
             "#0d0887"
            ],
            [
             0.1111111111111111,
             "#46039f"
            ],
            [
             0.2222222222222222,
             "#7201a8"
            ],
            [
             0.3333333333333333,
             "#9c179e"
            ],
            [
             0.4444444444444444,
             "#bd3786"
            ],
            [
             0.5555555555555556,
             "#d8576b"
            ],
            [
             0.6666666666666666,
             "#ed7953"
            ],
            [
             0.7777777777777778,
             "#fb9f3a"
            ],
            [
             0.8888888888888888,
             "#fdca26"
            ],
            [
             1,
             "#f0f921"
            ]
           ]
          },
          "colorway": [
           "#636efa",
           "#EF553B",
           "#00cc96",
           "#ab63fa",
           "#FFA15A",
           "#19d3f3",
           "#FF6692",
           "#B6E880",
           "#FF97FF",
           "#FECB52"
          ],
          "font": {
           "color": "#2a3f5f"
          },
          "geo": {
           "bgcolor": "white",
           "lakecolor": "white",
           "landcolor": "#E5ECF6",
           "showlakes": true,
           "showland": true,
           "subunitcolor": "white"
          },
          "hoverlabel": {
           "align": "left"
          },
          "hovermode": "closest",
          "mapbox": {
           "style": "light"
          },
          "paper_bgcolor": "white",
          "plot_bgcolor": "#E5ECF6",
          "polar": {
           "angularaxis": {
            "gridcolor": "white",
            "linecolor": "white",
            "ticks": ""
           },
           "bgcolor": "#E5ECF6",
           "radialaxis": {
            "gridcolor": "white",
            "linecolor": "white",
            "ticks": ""
           }
          },
          "scene": {
           "xaxis": {
            "backgroundcolor": "#E5ECF6",
            "gridcolor": "white",
            "gridwidth": 2,
            "linecolor": "white",
            "showbackground": true,
            "ticks": "",
            "zerolinecolor": "white"
           },
           "yaxis": {
            "backgroundcolor": "#E5ECF6",
            "gridcolor": "white",
            "gridwidth": 2,
            "linecolor": "white",
            "showbackground": true,
            "ticks": "",
            "zerolinecolor": "white"
           },
           "zaxis": {
            "backgroundcolor": "#E5ECF6",
            "gridcolor": "white",
            "gridwidth": 2,
            "linecolor": "white",
            "showbackground": true,
            "ticks": "",
            "zerolinecolor": "white"
           }
          },
          "shapedefaults": {
           "line": {
            "color": "#2a3f5f"
           }
          },
          "ternary": {
           "aaxis": {
            "gridcolor": "white",
            "linecolor": "white",
            "ticks": ""
           },
           "baxis": {
            "gridcolor": "white",
            "linecolor": "white",
            "ticks": ""
           },
           "bgcolor": "#E5ECF6",
           "caxis": {
            "gridcolor": "white",
            "linecolor": "white",
            "ticks": ""
           }
          },
          "title": {
           "x": 0.05
          },
          "xaxis": {
           "automargin": true,
           "gridcolor": "white",
           "linecolor": "white",
           "ticks": "",
           "title": {
            "standoff": 15
           },
           "zerolinecolor": "white",
           "zerolinewidth": 2
          },
          "yaxis": {
           "automargin": true,
           "gridcolor": "white",
           "linecolor": "white",
           "ticks": "",
           "title": {
            "standoff": 15
           },
           "zerolinecolor": "white",
           "zerolinewidth": 2
          }
         }
        }
       }
      },
      "text/html": [
       "<div>                            <div id=\"177d11d2-f8ad-4974-88ce-bdf1a818b89d\" class=\"plotly-graph-div\" style=\"height:525px; width:100%;\"></div>            <script type=\"text/javascript\">                require([\"plotly\"], function(Plotly) {                    window.PLOTLYENV=window.PLOTLYENV || {};                                    if (document.getElementById(\"177d11d2-f8ad-4974-88ce-bdf1a818b89d\")) {                    Plotly.newPlot(                        \"177d11d2-f8ad-4974-88ce-bdf1a818b89d\",                        [{\"delta\": {\"reference\": 250}, \"domain\": {\"x\": [0, 1], \"y\": [0, 1]}, \"gauge\": {\"axis\": {\"range\": [null, 500]}, \"steps\": [{\"color\": \"lightgray\", \"range\": [0, 250]}, {\"color\": \"gray\", \"range\": [250, 500]}], \"threshold\": {\"line\": {\"color\": \"red\", \"width\": 4}, \"thickness\": 0.75, \"value\": 490}}, \"mode\": \"gauge+number+delta\", \"title\": {\"text\": \"Speed\"}, \"type\": \"indicator\", \"value\": 322.57353751239395}],                        {\"template\": {\"data\": {\"bar\": [{\"error_x\": {\"color\": \"#2a3f5f\"}, \"error_y\": {\"color\": \"#2a3f5f\"}, \"marker\": {\"line\": {\"color\": \"#E5ECF6\", \"width\": 0.5}}, \"type\": \"bar\"}], \"barpolar\": [{\"marker\": {\"line\": {\"color\": \"#E5ECF6\", \"width\": 0.5}}, \"type\": \"barpolar\"}], \"carpet\": [{\"aaxis\": {\"endlinecolor\": \"#2a3f5f\", \"gridcolor\": \"white\", \"linecolor\": \"white\", \"minorgridcolor\": \"white\", \"startlinecolor\": \"#2a3f5f\"}, \"baxis\": {\"endlinecolor\": \"#2a3f5f\", \"gridcolor\": \"white\", \"linecolor\": \"white\", \"minorgridcolor\": \"white\", \"startlinecolor\": \"#2a3f5f\"}, \"type\": \"carpet\"}], \"choropleth\": [{\"colorbar\": {\"outlinewidth\": 0, \"ticks\": \"\"}, \"type\": \"choropleth\"}], \"contour\": [{\"colorbar\": {\"outlinewidth\": 0, \"ticks\": \"\"}, \"colorscale\": [[0.0, \"#0d0887\"], [0.1111111111111111, \"#46039f\"], [0.2222222222222222, \"#7201a8\"], [0.3333333333333333, \"#9c179e\"], [0.4444444444444444, \"#bd3786\"], [0.5555555555555556, \"#d8576b\"], [0.6666666666666666, \"#ed7953\"], [0.7777777777777778, \"#fb9f3a\"], [0.8888888888888888, \"#fdca26\"], [1.0, \"#f0f921\"]], \"type\": \"contour\"}], \"contourcarpet\": [{\"colorbar\": {\"outlinewidth\": 0, \"ticks\": \"\"}, \"type\": \"contourcarpet\"}], \"heatmap\": [{\"colorbar\": {\"outlinewidth\": 0, \"ticks\": \"\"}, \"colorscale\": [[0.0, \"#0d0887\"], [0.1111111111111111, \"#46039f\"], [0.2222222222222222, \"#7201a8\"], [0.3333333333333333, \"#9c179e\"], [0.4444444444444444, \"#bd3786\"], [0.5555555555555556, \"#d8576b\"], [0.6666666666666666, \"#ed7953\"], [0.7777777777777778, \"#fb9f3a\"], [0.8888888888888888, \"#fdca26\"], [1.0, \"#f0f921\"]], \"type\": \"heatmap\"}], \"heatmapgl\": [{\"colorbar\": {\"outlinewidth\": 0, \"ticks\": \"\"}, \"colorscale\": [[0.0, \"#0d0887\"], [0.1111111111111111, \"#46039f\"], [0.2222222222222222, \"#7201a8\"], [0.3333333333333333, \"#9c179e\"], [0.4444444444444444, \"#bd3786\"], [0.5555555555555556, \"#d8576b\"], [0.6666666666666666, \"#ed7953\"], [0.7777777777777778, \"#fb9f3a\"], [0.8888888888888888, \"#fdca26\"], [1.0, \"#f0f921\"]], \"type\": \"heatmapgl\"}], \"histogram\": [{\"marker\": {\"colorbar\": {\"outlinewidth\": 0, \"ticks\": \"\"}}, \"type\": \"histogram\"}], \"histogram2d\": [{\"colorbar\": {\"outlinewidth\": 0, \"ticks\": \"\"}, \"colorscale\": [[0.0, \"#0d0887\"], [0.1111111111111111, \"#46039f\"], [0.2222222222222222, \"#7201a8\"], [0.3333333333333333, \"#9c179e\"], [0.4444444444444444, \"#bd3786\"], [0.5555555555555556, \"#d8576b\"], [0.6666666666666666, \"#ed7953\"], [0.7777777777777778, \"#fb9f3a\"], [0.8888888888888888, \"#fdca26\"], [1.0, \"#f0f921\"]], \"type\": \"histogram2d\"}], \"histogram2dcontour\": [{\"colorbar\": {\"outlinewidth\": 0, \"ticks\": \"\"}, \"colorscale\": [[0.0, \"#0d0887\"], [0.1111111111111111, \"#46039f\"], [0.2222222222222222, \"#7201a8\"], [0.3333333333333333, \"#9c179e\"], [0.4444444444444444, \"#bd3786\"], [0.5555555555555556, \"#d8576b\"], [0.6666666666666666, \"#ed7953\"], [0.7777777777777778, \"#fb9f3a\"], [0.8888888888888888, \"#fdca26\"], [1.0, \"#f0f921\"]], \"type\": \"histogram2dcontour\"}], \"mesh3d\": [{\"colorbar\": {\"outlinewidth\": 0, \"ticks\": \"\"}, \"type\": \"mesh3d\"}], \"parcoords\": [{\"line\": {\"colorbar\": {\"outlinewidth\": 0, \"ticks\": \"\"}}, \"type\": \"parcoords\"}], \"pie\": [{\"automargin\": true, \"type\": \"pie\"}], \"scatter\": [{\"marker\": {\"colorbar\": {\"outlinewidth\": 0, \"ticks\": \"\"}}, \"type\": \"scatter\"}], \"scatter3d\": [{\"line\": {\"colorbar\": {\"outlinewidth\": 0, \"ticks\": \"\"}}, \"marker\": {\"colorbar\": {\"outlinewidth\": 0, \"ticks\": \"\"}}, \"type\": \"scatter3d\"}], \"scattercarpet\": [{\"marker\": {\"colorbar\": {\"outlinewidth\": 0, \"ticks\": \"\"}}, \"type\": \"scattercarpet\"}], \"scattergeo\": [{\"marker\": {\"colorbar\": {\"outlinewidth\": 0, \"ticks\": \"\"}}, \"type\": \"scattergeo\"}], \"scattergl\": [{\"marker\": {\"colorbar\": {\"outlinewidth\": 0, \"ticks\": \"\"}}, \"type\": \"scattergl\"}], \"scattermapbox\": [{\"marker\": {\"colorbar\": {\"outlinewidth\": 0, \"ticks\": \"\"}}, \"type\": \"scattermapbox\"}], \"scatterpolar\": [{\"marker\": {\"colorbar\": {\"outlinewidth\": 0, \"ticks\": \"\"}}, \"type\": \"scatterpolar\"}], \"scatterpolargl\": [{\"marker\": {\"colorbar\": {\"outlinewidth\": 0, \"ticks\": \"\"}}, \"type\": \"scatterpolargl\"}], \"scatterternary\": [{\"marker\": {\"colorbar\": {\"outlinewidth\": 0, \"ticks\": \"\"}}, \"type\": \"scatterternary\"}], \"surface\": [{\"colorbar\": {\"outlinewidth\": 0, \"ticks\": \"\"}, \"colorscale\": [[0.0, \"#0d0887\"], [0.1111111111111111, \"#46039f\"], [0.2222222222222222, \"#7201a8\"], [0.3333333333333333, \"#9c179e\"], [0.4444444444444444, \"#bd3786\"], [0.5555555555555556, \"#d8576b\"], [0.6666666666666666, \"#ed7953\"], [0.7777777777777778, \"#fb9f3a\"], [0.8888888888888888, \"#fdca26\"], [1.0, \"#f0f921\"]], \"type\": \"surface\"}], \"table\": [{\"cells\": {\"fill\": {\"color\": \"#EBF0F8\"}, \"line\": {\"color\": \"white\"}}, \"header\": {\"fill\": {\"color\": \"#C8D4E3\"}, \"line\": {\"color\": \"white\"}}, \"type\": \"table\"}]}, \"layout\": {\"annotationdefaults\": {\"arrowcolor\": \"#2a3f5f\", \"arrowhead\": 0, \"arrowwidth\": 1}, \"coloraxis\": {\"colorbar\": {\"outlinewidth\": 0, \"ticks\": \"\"}}, \"colorscale\": {\"diverging\": [[0, \"#8e0152\"], [0.1, \"#c51b7d\"], [0.2, \"#de77ae\"], [0.3, \"#f1b6da\"], [0.4, \"#fde0ef\"], [0.5, \"#f7f7f7\"], [0.6, \"#e6f5d0\"], [0.7, \"#b8e186\"], [0.8, \"#7fbc41\"], [0.9, \"#4d9221\"], [1, \"#276419\"]], \"sequential\": [[0.0, \"#0d0887\"], [0.1111111111111111, \"#46039f\"], [0.2222222222222222, \"#7201a8\"], [0.3333333333333333, \"#9c179e\"], [0.4444444444444444, \"#bd3786\"], [0.5555555555555556, \"#d8576b\"], [0.6666666666666666, \"#ed7953\"], [0.7777777777777778, \"#fb9f3a\"], [0.8888888888888888, \"#fdca26\"], [1.0, \"#f0f921\"]], \"sequentialminus\": [[0.0, \"#0d0887\"], [0.1111111111111111, \"#46039f\"], [0.2222222222222222, \"#7201a8\"], [0.3333333333333333, \"#9c179e\"], [0.4444444444444444, \"#bd3786\"], [0.5555555555555556, \"#d8576b\"], [0.6666666666666666, \"#ed7953\"], [0.7777777777777778, \"#fb9f3a\"], [0.8888888888888888, \"#fdca26\"], [1.0, \"#f0f921\"]]}, \"colorway\": [\"#636efa\", \"#EF553B\", \"#00cc96\", \"#ab63fa\", \"#FFA15A\", \"#19d3f3\", \"#FF6692\", \"#B6E880\", \"#FF97FF\", \"#FECB52\"], \"font\": {\"color\": \"#2a3f5f\"}, \"geo\": {\"bgcolor\": \"white\", \"lakecolor\": \"white\", \"landcolor\": \"#E5ECF6\", \"showlakes\": true, \"showland\": true, \"subunitcolor\": \"white\"}, \"hoverlabel\": {\"align\": \"left\"}, \"hovermode\": \"closest\", \"mapbox\": {\"style\": \"light\"}, \"paper_bgcolor\": \"white\", \"plot_bgcolor\": \"#E5ECF6\", \"polar\": {\"angularaxis\": {\"gridcolor\": \"white\", \"linecolor\": \"white\", \"ticks\": \"\"}, \"bgcolor\": \"#E5ECF6\", \"radialaxis\": {\"gridcolor\": \"white\", \"linecolor\": \"white\", \"ticks\": \"\"}}, \"scene\": {\"xaxis\": {\"backgroundcolor\": \"#E5ECF6\", \"gridcolor\": \"white\", \"gridwidth\": 2, \"linecolor\": \"white\", \"showbackground\": true, \"ticks\": \"\", \"zerolinecolor\": \"white\"}, \"yaxis\": {\"backgroundcolor\": \"#E5ECF6\", \"gridcolor\": \"white\", \"gridwidth\": 2, \"linecolor\": \"white\", \"showbackground\": true, \"ticks\": \"\", \"zerolinecolor\": \"white\"}, \"zaxis\": {\"backgroundcolor\": \"#E5ECF6\", \"gridcolor\": \"white\", \"gridwidth\": 2, \"linecolor\": \"white\", \"showbackground\": true, \"ticks\": \"\", \"zerolinecolor\": \"white\"}}, \"shapedefaults\": {\"line\": {\"color\": \"#2a3f5f\"}}, \"ternary\": {\"aaxis\": {\"gridcolor\": \"white\", \"linecolor\": \"white\", \"ticks\": \"\"}, \"baxis\": {\"gridcolor\": \"white\", \"linecolor\": \"white\", \"ticks\": \"\"}, \"bgcolor\": \"#E5ECF6\", \"caxis\": {\"gridcolor\": \"white\", \"linecolor\": \"white\", \"ticks\": \"\"}}, \"title\": {\"x\": 0.05}, \"xaxis\": {\"automargin\": true, \"gridcolor\": \"white\", \"linecolor\": \"white\", \"ticks\": \"\", \"title\": {\"standoff\": 15}, \"zerolinecolor\": \"white\", \"zerolinewidth\": 2}, \"yaxis\": {\"automargin\": true, \"gridcolor\": \"white\", \"linecolor\": \"white\", \"ticks\": \"\", \"title\": {\"standoff\": 15}, \"zerolinecolor\": \"white\", \"zerolinewidth\": 2}}}},                        {\"responsive\": true}                    ).then(function(){\n",
       "                            \n",
       "var gd = document.getElementById('177d11d2-f8ad-4974-88ce-bdf1a818b89d');\n",
       "var x = new MutationObserver(function (mutations, observer) {{\n",
       "        var display = window.getComputedStyle(gd).display;\n",
       "        if (!display || display === 'none') {{\n",
       "            console.log([gd, 'removed!']);\n",
       "            Plotly.purge(gd);\n",
       "            observer.disconnect();\n",
       "        }}\n",
       "}});\n",
       "\n",
       "// Listen for the removal of the full notebook cells\n",
       "var notebookContainer = gd.closest('#notebook-container');\n",
       "if (notebookContainer) {{\n",
       "    x.observe(notebookContainer, {childList: true});\n",
       "}}\n",
       "\n",
       "// Listen for the clearing of the current output cell\n",
       "var outputEl = gd.closest('.output');\n",
       "if (outputEl) {{\n",
       "    x.observe(outputEl, {childList: true});\n",
       "}}\n",
       "\n",
       "                        })                };                });            </script>        </div>"
      ]
     },
     "metadata": {},
     "output_type": "display_data"
    },
    {
     "name": "stdout",
     "output_type": "stream",
     "text": [
      "your filler : {'아': 1, '그': 2}\n",
      "\n",
      "modify text : 안녕하십니까 이건 발표를 맡게 된 A3조 신정우입니다.. 저해제는 발표 연습도우미 인프레젠테이션입니다..목차는 다음과 같습니다..저희 프로젝트 추진 배경입니다..스피치 상황이 많이 많아진 자기 표현 시대의 발표 능력 향상을 목표로 하는 소비자의 니즈가 증가하고 있습니다..그리고 발표를 두려워하거나 발표 능력이 부족한 사람들을 위한 서비스가 구제하기 때문에 발표 연습을 도와주는 AI 프로젝트를 계획했습니다..현재 기술 현황으로는 마이크로소프 트에서 제공하는 프레젠테이션 코치와 면접 연습 AI인 교회 행사가 있습니다..프레젠테이션 고체의 경우 필러 유무서비스 등 장점이 있지만 파워포인트에서만 이용이 가능하고 영어로만 사용이 가능하다는 단점이 있습니다..그래서 프레젠테이션에서는 로션 프레지 등 다양한 발표 도구를 사용할 수 있으며 한국어 발표 연습이 가능하도록 목표를 설정했습니다..저의 경우 영상을 통해 시각과 음성을 분석하는 서비스를 제공하는 데 이 기술을 참고하여 시선 처리와 표정으로 시 각을 분석하고 대본 과 실제 발표 음성을 비교하여 분석하는 것을 목표로 설정했습니다.. 보내 젠테이션 S10 구조는 발표대본을 먼저 업로드하고 발표 영상을 녹화하면 개인지 트레킹과 감정인식을 감정 인식으로 씨바 분석을 하고 실제 발표를 stt를 이용하여 텍스트와 시켜서 워드투벡터로 업로드하는 대본과 비교 영상 문자를 합니다.. 그리고 sdt에서 나오는 단어 수를 파악해 말해 속도 자주 사용하는 단어 등을 결과 레포트에 그 나타날 것입니다.. 발표가 끝나면 이런 결 과를 보고서에 준 영아누에 발표 연습을 끝내다거나 만족하지 못할 경우 대본을 제업 로드하거나 발표 연습을 다시 하는 구조입니다..다음으로는 사용하는 기술을 소개하겠습니다..데이즈 트레킹의 경우 사용자의 시선이 화면에서 극단적으로 벗어나는 경우는 의심 수준으로 설정하고 그 파갈 것입니다..이 모션 경우 발표자의 교정 중 앵그리 내추럴 해피를 인식하고 그 결과를 그래프로 나타내 결과 보고서에서 출력할 것입니다.. st는 사용자의 말하기를 문자로 바꿔서 실제 발표 내용을 확인하여 발표 능력 피드백에 활용할 것입니다..루트 100은 코엘 파일을 사용하여 업로드란 대본과 stt를 이용하여 만든 텍스트를 비교하여 단어별로 유사도를 체크할 것입니다.. 먼저 시각 분석 진행 상황입니다..사진에서 빨간 네모박스를 보시면 이모션 레코그니션을 하는 것으로 표정을 인식하여 현재 사진에는 출혈이 나타내고 있습니다..눈동자에는 초록색 십자가 표시가 있는데 데이즈 트레킹을 하는 것입니다..\n",
      "\n",
      "your speech speed : 322.57353751239395\n",
      "\n",
      "\u001b[1;31m3차 발표를 맡은 A3조 신정우입니다\u001b[1;m\n",
      "\u001b[1;31m저희의 주제는 발표 연습 도우미인 포레젠테이션입니다\u001b[1;m\n",
      "\u001b[1;2m목차는 다음과 같습니다\u001b[1;m\n",
      "\u001b[1;2m저희 프로젝트 추진 배경입니다\u001b[1;m\n",
      "\u001b[1;2m스피치 상황이 많아진 자기 PR 시대에 발표 능력 향상을 목표로 하는 소비자의 needs가 증가하고 있습니다\u001b[1;m\n",
      "\u001b[1;2m그리고 발표를 두려워하거나 발표 능력이 부족한 사람들을 위한 서비스가 부재하기 때문에 발표 연습을 도와주는 AI프로젝트를 계획하게 됐습니다\u001b[1;m\n",
      "\u001b[1;31m현재 기술현황으로는 마이크로소프트에서 제공하는 프레젠테이션 코치와 면접연습 AI인 뷰인터가 있습니다\u001b[1;m\n",
      "\u001b[1;2m프레젠테이션 코치의 경우, 필러 유무 서비스 등의 장점이 있지만, 파워포인트에서만 이용이 가능하고, 영어로만 사용이 가능하다는 단점이 있습니다\u001b[1;m\n",
      "\u001b[1;2m그래서 포레젠테이션에서는 노션, 프레지 등 다양한 발표 도구를 사용할 수 있으며, 한국어 발표 연습이 가능하도록 목표를 설정했습니다\u001b[1;m\n",
      "\u001b[1;2m뷰인터의 경우 영상을 통해 시각과 음성을 분석하는 서비스를 제공하는데 이 기술을 참고하여 시선처리와 표정으로 시각분석을 하고 대본과 실제 발표 음성을 비교하여 분석하는 것을 목표로 설정했습니다\u001b[1;m\n",
      "\u001b[1;31m포레젠테이션의 시스템 구조는 발표 대본을 먼저 업로드하고 발표 영상을 녹화하면 gaze tracking과 감정인식으로 시각분석을 하고, 실제 발표를 STT를 이용하여 Text화 시켜서 Word2Vec로 업로드한 대본과 비교하여 음성분석을 합니다\u001b[1;m\n",
      "\u001b[1;2m그리고 STT에서 나온 단어 수를 파악해 말의 속도, 자주 사용하는 단어 등을 결과 레포트에 나타낼 것입니다\u001b[1;m\n",
      "\u001b[1;31m발표가 끝나면 이러한 결과들을 보고서에 출력한 후, 발표 연습을 끝내거나 만족하지 못할 경우 대본을 재 업로드하거나 발표 연습을 다시하는 구조입니다\u001b[1;m\n",
      "\u001b[1;2m다음으로 사용하는 기술을 소개하겠습니다\u001b[1;m\n",
      "\u001b[1;31mGaze Tracking의 경우는 사용자의 시선이 화면에서 극단적으로 벗어나는 경우를 의심수준으로 설정하고 그 횟수를 파악할 것입니다\u001b[1;m\n",
      "\u001b[1;31mEmotion Recognition의 경우 발표자의 표정 중 엥그리 뉴트럴 해피를 인식하고 그 결과를 시계열 그래프로 나타내여 결과 보고서에 출력할 것입니다\u001b[1;m\n",
      "\u001b[1;2mSTT는 사용자의 말하기를 문자로 바꿔서 실제 발표 내용을 확인하여 발표능력 피드백에 활용할 것입니다\u001b[1;m\n",
      "\u001b[1;31mWord2Vec과 코엔엘파이를 사용해서 업로드한 대본과 STT를 이용하여 만든 텍스트를 비교하여 단어별로 유사도를 체크할 것입니다\u001b[1;m\n",
      "\u001b[1;31m먼저 시각분석 진행현황입니다\u001b[1;m\n",
      "\u001b[1;2m사진에서 빨간 네모박스를 보시면 Emotion Recognition을 하는 것으로 표정을 인식하여 현재 사진에는 뉴트럴이 나타나고 있습니다\u001b[1;m\n",
      "\u001b[1;2m눈동자에는 초록색 십자가 표시가 있는데 gaze tracking을 하는 것입니다.\u001b[1;m\n"
     ]
    }
   ],
   "source": [
    "original = input(\"대본 입력: \")\n",
    "stt_str, sec = audio_stt(\"Test_3min_audio.wav\")\n",
    "s_doc = put(stt_str)\n",
    "m_doc, doc_filler = check_filler(s_doc)\n",
    "doc = sentence_modify(m_doc)\n",
    "speed = check_speed(doc, sec)\n",
    "\n",
    "print(\"your filler :\", doc_filler)\n",
    "print()\n",
    "print(\"modify text :\", doc)\n",
    "print()\n",
    "cos(doc, original)"
   ]
  }
 ],
 "metadata": {
  "kernelspec": {
   "display_name": "Python",
   "language": "python",
   "name": "python3"
  },
  "language_info": {
   "codemirror_mode": {
    "name": "ipython",
    "version": 3
   },
   "file_extension": ".py",
   "mimetype": "text/x-python",
   "name": "python",
   "nbconvert_exporter": "python",
   "pygments_lexer": "ipython3",
   "version": "3.8.3"
  }
 },
 "nbformat": 4,
 "nbformat_minor": 4
}
